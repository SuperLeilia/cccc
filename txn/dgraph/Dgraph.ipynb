{
 "cells": [
  {
   "cell_type": "code",
   "execution_count": 1,
   "metadata": {
    "ExecuteTime": {
     "end_time": "2021-01-22T13:20:52.222052Z",
     "start_time": "2021-01-22T13:20:52.219584Z"
    }
   },
   "outputs": [],
   "source": [
    "import datetime\n",
    "import json\n",
    "\n",
    "import pydgraph\n"
   ]
  },
  {
   "cell_type": "code",
   "execution_count": 2,
   "metadata": {
    "ExecuteTime": {
     "end_time": "2021-01-22T13:20:52.441020Z",
     "start_time": "2021-01-22T13:20:52.438093Z"
    }
   },
   "outputs": [],
   "source": [
    "import linecache\n",
    "import os\n",
    "import time\n",
    "import random\n",
    "import matplotlib.pyplot as plt\n",
    "import pandas as pd\n",
    "import sys\n",
    "import threading\n",
    "import time"
   ]
  },
  {
   "cell_type": "code",
   "execution_count": 3,
   "metadata": {
    "ExecuteTime": {
     "end_time": "2021-01-22T13:20:52.627551Z",
     "start_time": "2021-01-22T13:20:52.622351Z"
    },
    "code_folding": [
     3
    ]
   },
   "outputs": [],
   "source": [
    "import numpy as np\n",
    "from matplotlib import pyplot as plt\n",
    "\n",
    "def Zipf(a: np.float64, min: np.uint64, max: np.uint64, size=None):\n",
    "    \"\"\"\n",
    "    Generate Zipf-like random variables,\n",
    "    but in inclusive [min...max] interval\n",
    "    \"\"\"\n",
    "    if min == 0:\n",
    "        raise ZeroDivisionError(\"\")\n",
    "\n",
    "    v = np.arange(min, max+1) # values to sample\n",
    "    p = 1.0 / np.power(v, a)  # probabilities\n",
    "    p /= np.sum(p)            # normalized\n",
    "\n",
    "    return np.random.choice(v, size=size, replace=True, p=p)\n"
   ]
  },
  {
   "cell_type": "code",
   "execution_count": 4,
   "metadata": {
    "ExecuteTime": {
     "end_time": "2021-01-22T13:20:52.770435Z",
     "start_time": "2021-01-22T13:20:52.764049Z"
    },
    "code_folding": [
     1
    ]
   },
   "outputs": [],
   "source": [
    "# 每个单独的op\n",
    "class Operation:\n",
    "    op_type = True  #true is write\n",
    "    variable = 0\n",
    "    value = 0\n",
    "    \n",
    "    def __init__(self, op_type, variable, value):\n",
    "        self.op_type = op_type\n",
    "        self.variable = variable\n",
    "        self.value = value\n",
    "\n",
    "    def Read(self,variable):\n",
    "        self.op_type = False\n",
    "        self.variable = variable\n",
    "        self.value = 0\n",
    "    def Write(self,variable,value):\n",
    "        self.op_type = True\n",
    "        self.variable = variable\n",
    "        self.value = value\n",
    "    def Display_info(self):\n",
    "        if(op_type==True):\n",
    "            print(\"write,\" + str(variable) + \",\" + str(value))\n",
    "        elif(op_type==False):\n",
    "            print(\"read,\" + str(variable) + \",\" + str(value))\n",
    "        else:\n",
    "            print(\"Error in Operation op_type!\")"
   ]
  },
  {
   "cell_type": "code",
   "execution_count": 5,
   "metadata": {
    "ExecuteTime": {
     "end_time": "2021-01-22T13:20:52.925704Z",
     "start_time": "2021-01-22T13:20:52.921963Z"
    },
    "code_folding": [
     0
    ]
   },
   "outputs": [],
   "source": [
    "#定义一个dict，包含{0: 0, 1: 0, ..., variable_num-1: 0}\n",
    "def set_initval(counter,variable_num):\n",
    "    seq = []\n",
    "    for i in range (0,variable_num):\n",
    "        seq.append(i)\n",
    "        i = i + 1\n",
    "    counter = counter.fromkeys(seq, 0)\n",
    "    return counter"
   ]
  },
  {
   "cell_type": "code",
   "execution_count": 6,
   "metadata": {
    "ExecuteTime": {
     "end_time": "2021-01-22T13:20:53.213686Z",
     "start_time": "2021-01-22T13:20:53.210186Z"
    },
    "code_folding": [
     1
    ]
   },
   "outputs": [],
   "source": [
    "# 用法：randon_pick([true,false],[0.5,0.5])\n",
    "def random_pick(some_list, probabilities): \n",
    "    x = random.uniform(0,1) \n",
    "    cumulative_probability = 0.0 \n",
    "    for item, item_probability in zip(some_list, probabilities): \n",
    "        cumulative_probability += item_probability \n",
    "        if x < cumulative_probability:\n",
    "               break \n",
    "    return item "
   ]
  },
  {
   "cell_type": "code",
   "execution_count": 7,
   "metadata": {
    "ExecuteTime": {
     "end_time": "2021-01-22T13:20:53.367642Z",
     "start_time": "2021-01-22T13:20:53.355016Z"
    },
    "code_folding": [
     0
    ]
   },
   "outputs": [],
   "source": [
    "def uniform_generator(output_path, his, client, trans, ops, var, wr):\n",
    "    \n",
    "    #define params \n",
    "    his_file = his \n",
    "    client_num = client\n",
    "    trans_num = trans\n",
    "    op_num = ops\n",
    "    variable_num = var \n",
    "    all_hist = [] \n",
    "    for h in range (0,his_file): \n",
    "        doc =open(output_path+\"hist_\"+str(h)+\".txt\",'w')\n",
    "        new_hist = [] \n",
    "        counter = {} \n",
    "        counter = set_initval(counter,variable_num) \n",
    "        for c in range (0,client_num):\n",
    "            new_client = []\n",
    "            for t in range (0,trans_num):\n",
    "                key_store = []\n",
    "                for op in range (0,op_num):\n",
    "                    #按照比例选and是读或写\n",
    "                    if wr == 55:\n",
    "                        op_type = random_pick([True,False],[0.5,0.5])\n",
    "                    elif wr == 19:\n",
    "                        op_type = random_pick([True,False],[0.1,0.9])\n",
    "                    elif wr ==91:\n",
    "                        op_type = random_pick([True,False],[0.9,0.1])\n",
    "                    else:\n",
    "                        print('Wrong input wr!')\n",
    "\n",
    "                    if(op_type==False): #READ\n",
    "                    #   随机选择variable编号\n",
    "                        variable = random.randint(0, variable_num - 1)\n",
    "                        while variable in key_store:\n",
    "                            variable = random.randint(0, variable_num - 1)\n",
    "                        key_store.append(variable)\n",
    "                        new_op = Operation(False, variable, 0)\n",
    "                    elif(op_type==True):\n",
    "                        variable = random.randint(0, variable_num - 1)\n",
    "                        while variable in key_store:\n",
    "                            variable = random.randint(0, variable_num - 1)\n",
    "                        key_store.append(variable)\n",
    "                        value = counter[variable] + 1\n",
    "                        counter[variable] = value  # 更新counter内的值\n",
    "                        new_op = Operation(True, variable, value)\n",
    "                    else:\n",
    "                        print(\"Error in op_type!\")\n",
    "                    #new_op.Display_info()\n",
    "                    \n",
    "                    if(new_op.op_type==True):\n",
    "                        doc.write(\"write,\" + str(new_op.variable) + \",\" + str(new_op.value)+\"\\n\")\n",
    "                    elif(new_op.op_type==False):\n",
    "                        doc.write(\"read,\" + str(new_op.variable) + \",\" + str(new_op.value)+\"\\n\")\n",
    "                    else:\n",
    "                        print(\"Error in file Writing!\")\n",
    "        doc.close()\n",
    "        print(output_path+\"hist_\"+str(h)+\".txt\"+\" succeeded.\")\n"
   ]
  },
  {
   "cell_type": "code",
   "execution_count": 8,
   "metadata": {
    "ExecuteTime": {
     "end_time": "2021-01-22T13:20:53.685198Z",
     "start_time": "2021-01-22T13:20:53.672020Z"
    },
    "code_folding": [
     0
    ]
   },
   "outputs": [],
   "source": [
    "# def zipf_generator(output_path, his, client, trans, ops, var, wr):\n",
    "#\n",
    "#     #define params\n",
    "#     his_file = his\n",
    "#     client_num = client\n",
    "#     trans_num = trans\n",
    "#     op_num = ops\n",
    "#     variable_num = var\n",
    "#     all_hist = []\n",
    "#     for h in range (0,his_file):\n",
    "#         doc =open(output_path+\"hist_\"+str(h)+\".txt\",'w')\n",
    "#         new_hist = []\n",
    "#         counter = {}\n",
    "#         counter = set_initval(counter,variable_num)\n",
    "#\n",
    "#         min = np.uint64(1)\n",
    "#         max = np.uint64(var)\n",
    "#\n",
    "#         q = Zipf(1, min, max, client_num*trans_num*op_num)\n",
    "#         variable_list = [int(x)-1 for x in q]\n",
    "#         counter_for_variable = 0\n",
    "#\n",
    "#         for c in range (0,client_num):\n",
    "#             new_client = []\n",
    "#             for t in range (0,trans_num):\n",
    "#                 new_transaction = []\n",
    "#                 for op in range (0,op_num):\n",
    "#                     #按照比例选and是读或写\n",
    "#                     if wr == 55:\n",
    "#                         op_type = random_pick([True,False],[0.5,0.5])\n",
    "#                     elif wr == 19:\n",
    "#                         op_type = random_pick([True,False],[0.1,0.9])\n",
    "#                     elif wr ==91:\n",
    "#                         op_type = random_pick([True,False],[0.9,0.1])\n",
    "#                     else:\n",
    "#                         print('Wrong input wr!')\n",
    "#\n",
    "#                     if(op_type==False): #READ\n",
    "#                     #   使用zipf分布选择variable编号\n",
    "#                         variable = variable_list[counter_for_variable]\n",
    "#                         counter_for_variable = counter_for_variable+1\n",
    "#                         new_op = Operation(False,variable,0)\n",
    "#                     elif(op_type==True):\n",
    "#                         variable = variable_list[counter_for_variable]\n",
    "#                         counter_for_variable = counter_for_variable+1\n",
    "#                         value = counter[variable] +1\n",
    "#                         counter[variable] = value #更新counter内的值\n",
    "#                         new_op = Operation(True,variable,value)\n",
    "#                     else:\n",
    "#                         print(\"Error in op_type!\")\n",
    "#                     #new_op.Display_info()\n",
    "#\n",
    "#                     if(new_op.op_type==True):\n",
    "#                         doc.write(\"write,\" + str(new_op.variable) + \",\" + str(new_op.value)+\"\\n\")\n",
    "#                     elif(new_op.op_type==False):\n",
    "#                         doc.write(\"read,\" + str(new_op.variable) + \",\" + str(new_op.value)+\"\\n\")\n",
    "#                     else:\n",
    "#                         print(\"Error in file Writing!\")\n",
    "#         doc.close()\n",
    "#         print(output_path+\"hist_\"+str(h)+\".txt\"+\" succeeded.\")\n"
   ]
  },
  {
   "cell_type": "code",
   "execution_count": 9,
   "metadata": {
    "ExecuteTime": {
     "end_time": "2021-01-22T13:20:54.283529Z",
     "start_time": "2021-01-22T13:20:54.278822Z"
    },
    "code_folding": []
   },
   "outputs": [],
   "source": [
    "def write_result(result_single_history,file):\n",
    "    '''\n",
    "        result_single_history is a three dimensional list\n",
    "        file is the output path\n",
    "    '''\n",
    "    f=open(file,\"w\")\n",
    "    for n_clients in range(0,len(result_single_history)):\n",
    "        for n_trans in range(0,len(result_single_history[0])):\n",
    "            for n_ops in range(0,len(result_single_history[0][0])):\n",
    "                f.write(result_single_history[n_clients][n_trans][n_ops]+'\\n')\n",
    "    f.close()\n",
    "    print(file+ ' is completed.')"
   ]
  },
  {
   "cell_type": "code",
   "execution_count": 10,
   "metadata": {
    "ExecuteTime": {
     "end_time": "2021-01-22T13:20:55.988948Z",
     "start_time": "2021-01-22T13:20:55.977232Z"
    },
    "code_folding": [
     83
    ]
   },
   "outputs": [],
   "source": [
    "def create_client_stub():\n",
    "    return pydgraph.DgraphClientStub('localhost:40000')\n",
    "\n",
    "\n",
    "# Create a client.\n",
    "def create_client(client_stub):\n",
    "    return pydgraph.DgraphClient(client_stub)\n",
    "\n",
    "\n",
    "# Drop All - discard all data and start from a clean slate.\n",
    "def drop_all(client):\n",
    "    return client.alter(pydgraph.Operation(drop_all=True))\n",
    "\n",
    "def set_schema(client):\n",
    "    schema = \"\"\"\n",
    "    key: string @index(exact) .\n",
    "    value: int .\n",
    "\n",
    "    type Operation {\n",
    "        key\n",
    "        value\n",
    "        \n",
    "    }\n",
    "    \"\"\"\n",
    "    return client.alter(pydgraph.Operation(schema=schema))\n",
    "\n",
    "def create_data(client,key,value):\n",
    "    # Create a new transaction.\n",
    "    txn = client.txn()\n",
    "    try:\n",
    "        # Create data.\n",
    "        p = {\n",
    "#             'uid': '_:' + key,\n",
    "            'dgraph.type': 'Operation',\n",
    "            'key' : key,\n",
    "            'value' : value\n",
    "        }\n",
    "\n",
    "        # Run mutation.\n",
    "        response = txn.mutate(set_obj=p)\n",
    "\n",
    "        # Commit transaction.\n",
    "        txn.commit()\n",
    "\n",
    "\n",
    "    finally:\n",
    "        # Clean up. Calling this after txn.commit() is a no-op and hence safe.\n",
    "        txn.discard()\n",
    "\n",
    "def query(client,key):\n",
    "    query = \"\"\"query all($k: string) {\n",
    "            data(func: eq(key, $k)) {\n",
    "                key\n",
    "                value\n",
    "            }\n",
    "        }\"\"\"\n",
    "    variables = {'$k': key}\n",
    "    response = client.txn(read_only=True).query(query, variables=variables)\n",
    "    rs = json.loads(response.json)\n",
    "    value = rs['value']\n",
    "    return value\n",
    "#     print(json.dumps(rs, ensure_ascii=False, indent=2))\n",
    "\n",
    "#     # Print results.\n",
    "#     print('key value : {}'.format(ppl['all']))\n",
    "\n",
    "\n",
    "\n",
    "\n",
    "def query_all(client):\n",
    "    query =\"\"\"{\n",
    "            data(func: type(Operation)) {\n",
    "                key\n",
    "                value\n",
    "            }\n",
    "        }\"\"\"\n",
    "    response = client.txn(read_only=True).query(query)\n",
    "    rs = json.loads(response.json)\n",
    "    print(json.dumps(rs, ensure_ascii=False, indent=2))\n",
    "\n",
    "    \n",
    "    \n",
    "    \n",
    "def update(client, key, value):\n",
    "    txn = client.txn()\n",
    "    \n",
    "    variables = {'$k': key}\n",
    "    query =\"\"\"\n",
    "  {\n",
    "    u as var(func: eq(key, \"2\"))\n",
    "  }\n",
    "    \"\"\"\n",
    "#     response = client.txn(read_only=True).query(query, variables=variables)\n",
    "    \n",
    "#     rs = json.loads(response.json)\n",
    "#     print('query status: '+json.dumps(rs, ensure_ascii=False, indent=2))\n",
    "    \n",
    "    cond = \"@if(eq(len(u), 1))\"\n",
    "    nquads = \"\"\"\n",
    "          uid(u) <value> \"{0}\" .\n",
    "    \"\"\".format(str(value))\n",
    "    mutation = txn.create_mutation(cond=cond, set_nquads=nquads)\n",
    "    request = txn.create_request(mutations=[mutation], query=query, commit_now=True)\n",
    "    txn.do_request(request)\n",
    "#     txn.commit()"
   ]
  },
  {
   "cell_type": "code",
   "execution_count": 11,
   "metadata": {
    "ExecuteTime": {
     "end_time": "2021-01-22T13:20:57.189082Z",
     "start_time": "2021-01-22T13:20:57.182812Z"
    },
    "code_folding": [
     0
    ]
   },
   "outputs": [],
   "source": [
    "def generate_clients(hist_file,n_clients,n_trans,n_ops):\n",
    "    #按照client-transaction\n",
    "    #input a single history file, contains n transactions.\n",
    "    #Output a list of transaction,each transaction is a list of operation\n",
    "    fo = open(hist_file, \"r\")\n",
    "    print (\"文件名为: \", fo.name)\n",
    "    list_line = []\n",
    "    for line in fo.readlines():                          #依次读取每行  \n",
    "        line = line.strip()                             #去掉每行头尾空白,line is a list, contains all ops in hist file\n",
    "        list_line.append(line)\n",
    "    # 关闭文件\n",
    "    fo.close()\n",
    "    # print(list_line)\n",
    "#     need a three dimension list: clients,trans,ops\n",
    "    start = 0\n",
    "    end = n_ops\n",
    "    list_clients = []\n",
    "    \n",
    "    \n",
    "    for i in range(0,n_clients):\n",
    "        temp_trans = []\n",
    "        for j in range(0,n_trans):\n",
    "            temp_ops = list_line[start:end]\n",
    "            temp_trans.append(temp_ops)\n",
    "            start = start+n_ops\n",
    "            end = end+n_ops\n",
    "        list_clients.append(temp_trans)\n",
    "        \n",
    "    return list_clients"
   ]
  },
  {
   "cell_type": "code",
   "execution_count": 12,
   "metadata": {
    "ExecuteTime": {
     "end_time": "2021-01-22T13:20:57.346962Z",
     "start_time": "2021-01-22T13:20:57.341835Z"
    },
    "code_folding": [
     0
    ]
   },
   "outputs": [],
   "source": [
    "def create_variables(client_stub,n_trans,n_variable):\n",
    "    client = create_client(client_stub)\n",
    "    set_schema(client)\n",
    "    for j in range(0,n_trans):\n",
    "        for i in range(0,n_variable):\n",
    "            txn = client.txn()\n",
    "            try:\n",
    "                key = str(i)\n",
    "                # Create data.\n",
    "                p = {\n",
    "#             'uid': '_:' + key,\n",
    "                    'dgraph.type': 'Operation',\n",
    "                    'key' : key,\n",
    "                    'value' : 0\n",
    "                }\n",
    "\n",
    "                # Run mutation.\n",
    "                response = txn.mutate(set_obj=p)\n",
    "\n",
    "                # Commit transaction.\n",
    "                txn.commit()\n",
    "\n",
    "\n",
    "            finally:\n",
    "                # Clean up. Calling this after txn.commit() is a no-op and hence safe.\n",
    "                txn.discard()"
   ]
  },
  {
   "cell_type": "code",
   "execution_count": 13,
   "metadata": {
    "ExecuteTime": {
     "end_time": "2021-01-22T13:20:57.511827Z",
     "start_time": "2021-01-22T13:20:57.508037Z"
    },
    "code_folding": [
     0
    ]
   },
   "outputs": [],
   "source": [
    "def op_query(client,key):\n",
    "    query = \"\"\"query all($k: string) {\n",
    "            data(func: eq(key, $k)) {\n",
    "                key\n",
    "                value\n",
    "            }\n",
    "        }\"\"\"\n",
    "    variables = {'$k': key}\n",
    "    response = client.txn(read_only=True).query(query, variables=variables)\n",
    "    rs = json.loads(response.json)\n",
    "    result = rs['data']\n",
    "#     result is a list, and result[0] contains a dic of key and value \n",
    "#     print(result[0]['value']) #result is value\n",
    "\n",
    "    return result[0]['value']"
   ]
  },
  {
   "cell_type": "code",
   "execution_count": 14,
   "metadata": {
    "ExecuteTime": {
     "end_time": "2021-01-22T13:20:57.673639Z",
     "start_time": "2021-01-22T13:20:57.669273Z"
    },
    "code_folding": [
     0
    ]
   },
   "outputs": [],
   "source": [
    "def op_update(txn, key, val):\n",
    "    variables = {'$k': key}\n",
    "    query =\"\"\"\n",
    "  {{\n",
    "  u as var(func: eq(key, \"{k}\"))\n",
    "  }}\n",
    "  \"\"\".format(k=str(key))\n",
    "    cond = \"@if(eq(len(u), 1))\"\n",
    "    nquads = \"\"\"\n",
    "          uid(u) <value> \"{0}\" .\n",
    "    \"\"\".format(str(val))\n",
    "    mutation = txn.create_mutation(cond=cond, set_nquads=nquads)\n",
    "    request = txn.create_request(mutations=[mutation], query=query, commit_now=True)\n",
    "    txn.do_request(request)"
   ]
  },
  {
   "cell_type": "code",
   "execution_count": 15,
   "metadata": {
    "ExecuteTime": {
     "end_time": "2021-01-22T13:20:57.829964Z",
     "start_time": "2021-01-22T13:20:57.825645Z"
    },
    "code_folding": [
     3
    ]
   },
   "outputs": [],
   "source": [
    "'''\n",
    "    返回的result_clients是三位结果数组\n",
    "'''\n",
    "def exec_history(list_of_ops, client_stub):\n",
    "    n_clients = len(list_of_ops)\n",
    "    n_trans = len(list_of_ops[0])\n",
    "    n_ops = len(list_of_ops[0][0])\n",
    "    result_clients = []\n",
    "    for i in range(0,n_clients):\n",
    "        client = create_client(client_stub)\n",
    "        new_client = exe(list_of_ops[i], client, i)\n",
    "        result_clients.append(new_client)\n",
    "    return result_clients"
   ]
  },
  {
   "cell_type": "code",
   "execution_count": 16,
   "metadata": {
    "ExecuteTime": {
     "end_time": "2021-01-22T13:20:58.595666Z",
     "start_time": "2021-01-22T13:20:58.586089Z"
    },
    "code_folding": [
     6
    ]
   },
   "outputs": [],
   "source": [
    "'''\n",
    "    这里的list_of_ops是二维数组，trans，ops\n",
    "    client 是实例\n",
    "    clientid是第i个，用于写入文件\n",
    "    返回值result_ops也是二维数组\n",
    "'''\n",
    "def exe(list_of_ops,client, client_id):\n",
    "    result_ops = []\n",
    "    n_trans = len(list_of_ops)\n",
    "    \n",
    "    op_num = 0\n",
    "    \n",
    "    for i in range(0,n_trans):\n",
    "#         i 个 trans\n",
    "        txn = client.txn()\n",
    "        try:\n",
    "            temp_tx_op = []\n",
    "            for j in range(0,len(list_of_ops[i])):\n",
    "#             print('now dealing with : '+list_of_ops[i][j])\n",
    "            \n",
    "                op = str.split(list_of_ops[i][j],',',3)\n",
    "            # create a new variable\n",
    "                key = str(op[1])\n",
    "            \n",
    "                if(op[0]=='write'):\n",
    "                    val = str(op[2])\n",
    "#                     print('now write, key is '+key+', value is '+val+'.\\n')\n",
    "                    op_update(txn, key, val)\n",
    "                    value = op_query(client, key)\n",
    "                    single_op = 'w(' +  str(key) +',' + str(value) +','+ str(client_id) +','+str(i) +','+ str(op_num)+')'\n",
    "                    temp_tx_op.append(single_op)\n",
    "                    op_num = op_num +1\n",
    "                elif(op[0]=='read'):\n",
    "#                     print('now read, key is '+key+'.\\n')\n",
    "                    value = op_query(client, key)\n",
    "                    single_op = 'r(' +  str(key) +',' + str(value) +','+ str(client_id) +','+str(i) +','+ str(op_num)+')'\n",
    "                    temp_tx_op.append(single_op)\n",
    "                    op_num = op_num +1\n",
    "                else:\n",
    "                    print(\"unknown wrong type op.\")\n",
    "            result_ops.append(temp_tx_op)\n",
    "        finally:\n",
    "            txn.discard()\n",
    "        \n",
    "    return result_ops"
   ]
  },
  {
   "cell_type": "code",
   "execution_count": 17,
   "metadata": {
    "ExecuteTime": {
     "end_time": "2021-01-22T13:48:05.462333Z",
     "start_time": "2021-01-22T13:21:01.649295Z"
    }
   },
   "outputs": [
    {
     "name": "stdout",
     "output_type": "stream",
     "text": [
      "Start 0\n",
      "Error: <_InactiveRpcError of RPC that terminated with:\n",
      "\tstatus = StatusCode.UNAVAILABLE\n",
      "\tdetails = \"failed to connect to all addresses\"\n",
      "\tdebug_error_string = \"{\"created\":\"@1641807973.873041000\",\"description\":\"Failed to pick subchannel\",\"file\":\"src/core/ext/filters/client_channel/client_channel.cc\",\"file_line\":3135,\"referenced_errors\":[{\"created\":\"@1641807973.873041000\",\"description\":\"failed to connect to all addresses\",\"file\":\"src/core/lib/transport/error_utils.cc\",\"file_line\":163,\"grpc_status\":14}]}\"\n",
      ">\n"
     ]
    }
   ],
   "source": [
    "'''\n",
    "    uniform\n",
    "'''\n",
    "\n",
    "def main():\n",
    "    client_num = [5]\n",
    "    transaction_num = [10]\n",
    "    wr_profile = [55]\n",
    "    key_num = [1000]\n",
    "    ops_per_trans = 10\n",
    "    \n",
    "    for c in client_num:\n",
    "        for t in transaction_num:\n",
    "            for wr in wr_profile:\n",
    "                for k in key_num:\n",
    "                    # path = '../DATA_Dgrpah/client' + str(c) + '/transaction' + str(t) + '/wr' + str(wr) + '/key' +str(k) +'/uniform/'\n",
    "                    \n",
    "#                     uniform_generator('hist/',10,c,t,ops_per_trans,k,wr)\n",
    "                    for i in range(0,10):\n",
    "                        print('Start ' + str(i))\n",
    "                        client_stub = create_client_stub()\n",
    "#                         generate_file = 'hist/hist_'+str(i)+'.txt'\n",
    "#                         result_file = 'result/result_'+str(i)+'.txt'\n",
    "\n",
    "                        create_variables(client_stub,ops_per_trans,k)\n",
    "#                         list_of_ops = generate_clients(generate_file,c,t,ops_per_trans)\n",
    "#                         result_single_history = exec_history(list_of_ops, client_stub)\n",
    "#                         write_result(result_single_history,result_file)\n",
    "                        \n",
    "                        drop_all(create_client(client_stub))\n",
    "                        client_stub.close()\n",
    "                        \n",
    "\n",
    "if __name__ == '__main__':\n",
    "    try:\n",
    "        main()\n",
    "        print('DONE!')\n",
    "    except Exception as e:\n",
    "        print('Error: {}'.format(e))\n"
   ]
  },
  {
   "cell_type": "code",
   "execution_count": 18,
   "metadata": {
    "ExecuteTime": {
     "end_time": "2021-01-23T08:30:08.844576Z",
     "start_time": "2021-01-23T08:03:51.555044Z"
    }
   },
   "outputs": [
    {
     "data": {
      "text/plain": [
       "'\\n    Zipf\\n'"
      ]
     },
     "execution_count": 18,
     "metadata": {},
     "output_type": "execute_result"
    }
   ],
   "source": [
    "'''\n",
    "    Zipf\n",
    "'''\n",
    "\n",
    "# def main():\n",
    "#     client_num = [5,10,20,30]\n",
    "#     transaction_num = [100]\n",
    "#     wr_profile = [55]\n",
    "#     key_num = [1000]\n",
    "    \n",
    "#     for c in client_num:\n",
    "#         for t in transaction_num:\n",
    "#             for wr in wr_profile:\n",
    "#                 for k in key_num:\n",
    "#                     path = '../DATA_Dgrpah/client' + str(c) + '/transaction' + str(t) + '/wr' + str(wr) + '/key' +str(k) +'/zipf/'\n",
    "                    \n",
    "#                     uniform_generator(path,10,c,t,1,k,wr)\n",
    "#                     for i in range(0,10):\n",
    "#                         client_stub = create_client_stub()\n",
    "#                         generate_file = path + 'hist_'+str(i)+'.txt'\n",
    "#                         result_file = path + 'result_'+str(i)+'.txt'\n",
    "\n",
    "#                         create_variables(client_stub,1,k)\n",
    "#                         list_of_ops = generate_clients(generate_file,c,t,1)\n",
    "#                         result_single_history = exec_history(list_of_ops, client_stub)\n",
    "#                         write_result(result_single_history,result_file)\n",
    "                        \n",
    "#                         drop_all(create_client(client_stub))\n",
    "#                         client_stub.close()\n",
    "                        \n",
    "\n",
    "# if __name__ == '__main__':\n",
    "#     try:\n",
    "#         main()\n",
    "#         print('DONE!')\n",
    "#     except Exception as e:\n",
    "#         print('Error: {}'.format(e))\n"
   ]
  },
  {
   "cell_type": "code",
   "execution_count": 19,
   "metadata": {
    "ExecuteTime": {
     "end_time": "2021-01-23T08:03:49.232095Z",
     "start_time": "2021-01-23T08:03:48.901804Z"
    }
   },
   "outputs": [],
   "source": [
    "# client_stub = create_client_stub()\n",
    "# client = create_client(client_stub)\n",
    "# drop_all(client)"
   ]
  },
  {
   "cell_type": "code",
   "execution_count": null,
   "metadata": {},
   "outputs": [],
   "source": []
  }
 ],
 "metadata": {
  "kernelspec": {
   "display_name": "Python 3",
   "language": "python",
   "name": "python3"
  },
  "language_info": {
   "codemirror_mode": {
    "name": "ipython",
    "version": 3
   },
   "file_extension": ".py",
   "mimetype": "text/x-python",
   "name": "python",
   "nbconvert_exporter": "python",
   "pygments_lexer": "ipython3",
   "version": "3.7.7"
  },
  "latex_envs": {
   "LaTeX_envs_menu_present": true,
   "autoclose": false,
   "autocomplete": true,
   "bibliofile": "biblio.bib",
   "cite_by": "apalike",
   "current_citInitial": 1,
   "eqLabelWithNumbers": true,
   "eqNumInitial": 1,
   "hotkeys": {
    "equation": "Ctrl-E",
    "itemize": "Ctrl-I"
   },
   "labels_anchors": false,
   "latex_user_defs": false,
   "report_style_numbering": false,
   "user_envs_cfg": false
  },
  "toc": {
   "base_numbering": 1,
   "nav_menu": {},
   "number_sections": true,
   "sideBar": true,
   "skip_h1_title": false,
   "title_cell": "Table of Contents",
   "title_sidebar": "Contents",
   "toc_cell": false,
   "toc_position": {},
   "toc_section_display": true,
   "toc_window_display": false
  },
  "varInspector": {
   "cols": {
    "lenName": 16,
    "lenType": 16,
    "lenVar": 40
   },
   "kernels_config": {
    "python": {
     "delete_cmd_postfix": "",
     "delete_cmd_prefix": "del ",
     "library": "var_list.py",
     "varRefreshCmd": "print(var_dic_list())"
    },
    "r": {
     "delete_cmd_postfix": ") ",
     "delete_cmd_prefix": "rm(",
     "library": "var_list.r",
     "varRefreshCmd": "cat(var_dic_list()) "
    }
   },
   "types_to_exclude": [
    "module",
    "function",
    "builtin_function_or_method",
    "instance",
    "_Feature"
   ],
   "window_display": false
  }
 },
 "nbformat": 4,
 "nbformat_minor": 2
}